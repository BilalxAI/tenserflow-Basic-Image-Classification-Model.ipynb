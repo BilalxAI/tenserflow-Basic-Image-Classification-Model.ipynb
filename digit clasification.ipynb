{
 "cells": [
  {
   "cell_type": "markdown",
   "id": "64391419",
   "metadata": {},
   "source": [
    "# Basic Image Classification Model"
   ]
  },
  {
   "cell_type": "code",
   "execution_count": 8,
   "id": "5822655d",
   "metadata": {},
   "outputs": [],
   "source": [
    "import tensorflow as tf"
   ]
  },
  {
   "cell_type": "code",
   "execution_count": 9,
   "id": "effa4904",
   "metadata": {},
   "outputs": [
    {
     "data": {
      "text/plain": [
       "'2.10.0'"
      ]
     },
     "execution_count": 9,
     "metadata": {},
     "output_type": "execute_result"
    }
   ],
   "source": [
    "tf.__version__"
   ]
  },
  {
   "cell_type": "code",
   "execution_count": 10,
   "id": "705d34da",
   "metadata": {},
   "outputs": [],
   "source": [
    "from tensorflow.keras.datasets import mnist"
   ]
  },
  {
   "cell_type": "code",
   "execution_count": 11,
   "id": "efdce108",
   "metadata": {},
   "outputs": [
    {
     "name": "stdout",
     "output_type": "stream",
     "text": [
      "Downloading data from https://storage.googleapis.com/tensorflow/tf-keras-datasets/mnist.npz\n",
      "11490434/11490434 [==============================] - 7s 1us/step\n"
     ]
    }
   ],
   "source": [
    "(x_train, y_train), (x_test, y_test) = mnist.load_data()"
   ]
  },
  {
   "cell_type": "code",
   "execution_count": 12,
   "id": "4a1ff3b6",
   "metadata": {},
   "outputs": [
    {
     "data": {
      "text/plain": [
       "(60000, 28, 28)"
      ]
     },
     "execution_count": 12,
     "metadata": {},
     "output_type": "execute_result"
    }
   ],
   "source": [
    "x_train.shape"
   ]
  },
  {
   "cell_type": "code",
   "execution_count": 13,
   "id": "6e106747",
   "metadata": {},
   "outputs": [
    {
     "data": {
      "text/plain": [
       "(10000, 28, 28)"
      ]
     },
     "execution_count": 13,
     "metadata": {},
     "output_type": "execute_result"
    }
   ],
   "source": [
    "x_test.shape"
   ]
  },
  {
   "cell_type": "code",
   "execution_count": 14,
   "id": "1390b06d",
   "metadata": {},
   "outputs": [],
   "source": [
    "import matplotlib.pyplot as plt\n",
    "%matplotlib inline"
   ]
  },
  {
   "cell_type": "code",
   "execution_count": 15,
   "id": "f5ce3ede",
   "metadata": {},
   "outputs": [
    {
     "data": {
      "image/png": "[encoded data removed]",
      "text/plain": [
       "<Figure size 432x288 with 1 Axes>"
      ]
     },
     "metadata": {
      "needs_background": "light"
     },
     "output_type": "display_data"
    }
   ],
   "source": [
    "plt.imshow(x_train[15], cmap= \"binary\")\n",
    "plt.show()"
   ]
  },
  {
   "cell_type": "code",
   "execution_count": 16,
   "id": "7bec914b",
   "metadata": {},
   "outputs": [
    {
     "data": {
      "image/png": "[encoded data removed]",
      "text/plain": [
       "<Figure size 432x288 with 1 Axes>"
      ]
     },
     "metadata": {
      "needs_background": "light"
     },
     "output_type": "display_data"
    }
   ],
   "source": [
    "plt.imshow(x_train[1500], cmap= \"binary\")\n",
    "plt.show()"
   ]
  },
  {
   "cell_type": "code",
   "execution_count": 17,
   "id": "9d4f32ec",
   "metadata": {},
   "outputs": [
    {
     "data": {
      "text/plain": [
       "{0, 1, 2, 3, 4, 5, 6, 7, 8, 9}"
      ]
     },
     "execution_count": 17,
     "metadata": {},
     "output_type": "execute_result"
    }
   ],
   "source": [
    "set(y_train)"
   ]
  },
  {
   "cell_type": "code",
   "execution_count": 19,
   "id": "4fed9c4f",
   "metadata": {},
   "outputs": [],
   "source": [
    "from tensorflow.keras.utils import to_categorical"
   ]
  },
  {
   "cell_type": "code",
   "execution_count": 24,
   "id": "cbea87db",
   "metadata": {},
   "outputs": [],
   "source": [
    "y_train_enc = to_categorical(y_train)\n",
    "y_test_enc = to_categorical(y_test)"
   ]
  },
  {
   "cell_type": "code",
   "execution_count": 35,
   "id": "c1c74226",
   "metadata": {},
   "outputs": [
    {
     "data": {
      "text/plain": [
       "9"
      ]
     },
     "execution_count": 35,
     "metadata": {},
     "output_type": "execute_result"
    }
   ],
   "source": [
    "y_train[4]"
   ]
  },
  {
   "cell_type": "code",
   "execution_count": 27,
   "id": "555391ff",
   "metadata": {},
   "outputs": [
    {
     "data": {
      "text/plain": [
       "array([0., 0., 0., 0., 0., 0., 0., 0., 0., 1.], dtype=float32)"
      ]
     },
     "execution_count": 27,
     "metadata": {},
     "output_type": "execute_result"
    }
   ],
   "source": [
    "y_train_enc[4]"
   ]
  },
  {
   "cell_type": "code",
   "execution_count": 29,
   "id": "dea604df",
   "metadata": {},
   "outputs": [],
   "source": [
    "import numpy as np\n",
    "x_train_reshaped = np.reshape(x_train, (60000, 784))\n",
    "x_test_reshaped = np.reshape(x_test, (10000, 784))"
   ]
  },
  {
   "cell_type": "code",
   "execution_count": 30,
   "id": "f0498db4",
   "metadata": {},
   "outputs": [
    {
     "data": {
      "text/plain": [
       "(60000, 784)"
      ]
     },
     "execution_count": 30,
     "metadata": {},
     "output_type": "execute_result"
    }
   ],
   "source": [
    "x_train_reshaped.shape"
   ]
  },
  {
   "cell_type": "code",
   "execution_count": 34,
   "id": "06bc6807",
   "metadata": {},
   "outputs": [
    {
     "data": {
      "text/plain": [
       "array([  0,   0,   0,   0,   0,   0,   0,   0,   0,   0,   0,   0,   0,\n",
       "         0,   0,   0,   0,   0,   0,   0,   0,   0,   0,   0,   0,   0,\n",
       "         0,   0,   0,   0,   0,   0,   0,   0,   0,   0,   0,   0,   0,\n",
       "         0,   0,   0,   0,   0,   0,   0,   0,   0,   0,   0,   0,   0,\n",
       "         0,   0,   0,   0,   0,   0,   0,   0,   0,   0,   0,   0,   0,\n",
       "         0,   0,   0,   0,   0,   0,   0,   0,   0,   0,   0,   0,   0,\n",
       "         0,   0,   0,   0,   0,   0,   0,   0,   0,   0,   0,   0,   0,\n",
       "         0,   0,   0,   0,   0,   0,   0,   0,   0,   0,   0,   0,   0,\n",
       "         0,   0,   0,   0,   0,   0,   0,   0,   0,   0,   0,   0,   0,\n",
       "         0,   0,   0,   0,   0,   0,   0,   0,   0,   0,   0,   0,   0,\n",
       "         0,   0,   0,   0,   0,   0,   0,   0,   0,   0,   0,   0,   0,\n",
       "         0,   0,   0,   0,   0,   0,   0,   0,   0,   3,  18,  18,  18,\n",
       "       126, 136, 175,  26, 166, 255, 247, 127,   0,   0,   0,   0,   0,\n",
       "         0,   0,   0,   0,   0,   0,   0,  30,  36,  94, 154, 170, 253,\n",
       "       253, 253, 253, 253, 225, 172, 253, 242, 195,  64,   0,   0,   0,\n",
       "         0,   0,   0,   0,   0,   0,   0,   0,  49, 238, 253, 253, 253,\n",
       "       253, 253, 253, 253, 253, 251,  93,  82,  82,  56,  39,   0,   0,\n",
       "         0,   0,   0,   0,   0,   0,   0,   0,   0,   0,  18, 219, 253,\n",
       "       253, 253, 253, 253, 198, 182, 247, 241,   0,   0,   0,   0,   0,\n",
       "         0,   0,   0,   0,   0,   0,   0,   0,   0,   0,   0,   0,   0,\n",
       "        80, 156, 107, 253, 253, 205,  11,   0,  43, 154,   0,   0,   0,\n",
       "         0,   0,   0,   0,   0,   0,   0,   0,   0,   0,   0,   0,   0,\n",
       "         0,   0,   0,  14,   1, 154, 253,  90,   0,   0,   0,   0,   0,\n",
       "         0,   0,   0,   0,   0,   0,   0,   0,   0,   0,   0,   0,   0,\n",
       "         0,   0,   0,   0,   0,   0,   0, 139, 253, 190,   2,   0,   0,\n",
       "         0,   0,   0,   0,   0,   0,   0,   0,   0,   0,   0,   0,   0,\n",
       "         0,   0,   0,   0,   0,   0,   0,   0,   0,  11, 190, 253,  70,\n",
       "         0,   0,   0,   0,   0,   0,   0,   0,   0,   0,   0,   0,   0,\n",
       "         0,   0,   0,   0,   0,   0,   0,   0,   0,   0,   0,   0,  35,\n",
       "       241, 225, 160, 108,   1,   0,   0,   0,   0,   0,   0,   0,   0,\n",
       "         0,   0,   0,   0,   0,   0,   0,   0,   0,   0,   0,   0,   0,\n",
       "         0,   0,  81, 240, 253, 253, 119,  25,   0,   0,   0,   0,   0,\n",
       "         0,   0,   0,   0,   0,   0,   0,   0,   0,   0,   0,   0,   0,\n",
       "         0,   0,   0,   0,   0,  45, 186, 253, 253, 150,  27,   0,   0,\n",
       "         0,   0,   0,   0,   0,   0,   0,   0,   0,   0,   0,   0,   0,\n",
       "         0,   0,   0,   0,   0,   0,   0,   0,  16,  93, 252, 253, 187,\n",
       "         0,   0,   0,   0,   0,   0,   0,   0,   0,   0,   0,   0,   0,\n",
       "         0,   0,   0,   0,   0,   0,   0,   0,   0,   0,   0,   0, 249,\n",
       "       253, 249,  64,   0,   0,   0,   0,   0,   0,   0,   0,   0,   0,\n",
       "         0,   0,   0,   0,   0,   0,   0,   0,   0,   0,   0,  46, 130,\n",
       "       183, 253, 253, 207,   2,   0,   0,   0,   0,   0,   0,   0,   0,\n",
       "         0,   0,   0,   0,   0,   0,   0,   0,   0,   0,   0,  39, 148,\n",
       "       229, 253, 253, 253, 250, 182,   0,   0,   0,   0,   0,   0,   0,\n",
       "         0,   0,   0,   0,   0,   0,   0,   0,   0,   0,   0,  24, 114,\n",
       "       221, 253, 253, 253, 253, 201,  78,   0,   0,   0,   0,   0,   0,\n",
       "         0,   0,   0,   0,   0,   0,   0,   0,   0,   0,   0,  23,  66,\n",
       "       213, 253, 253, 253, 253, 198,  81,   2,   0,   0,   0,   0,   0,\n",
       "         0,   0,   0,   0,   0,   0,   0,   0,   0,   0,   0,  18, 171,\n",
       "       219, 253, 253, 253, 253, 195,  80,   9,   0,   0,   0,   0,   0,\n",
       "         0,   0,   0,   0,   0,   0,   0,   0,   0,   0,   0,  55, 172,\n",
       "       226, 253, 253, 253, 253, 244, 133,  11,   0,   0,   0,   0,   0,\n",
       "         0,   0,   0,   0,   0,   0,   0,   0,   0,   0,   0,   0,   0,\n",
       "       136, 253, 253, 253, 212, 135, 132,  16,   0,   0,   0,   0,   0,\n",
       "         0,   0,   0,   0,   0,   0,   0,   0,   0,   0,   0,   0,   0,\n",
       "         0,   0,   0,   0,   0,   0,   0,   0,   0,   0,   0,   0,   0,\n",
       "         0,   0,   0,   0,   0,   0,   0,   0,   0,   0,   0,   0,   0,\n",
       "         0,   0,   0,   0,   0,   0,   0,   0,   0,   0,   0,   0,   0,\n",
       "         0,   0,   0,   0,   0,   0,   0,   0,   0,   0,   0,   0,   0,\n",
       "         0,   0,   0,   0,   0,   0,   0,   0,   0,   0,   0,   0,   0,\n",
       "         0,   0,   0,   0,   0,   0,   0,   0,   0,   0,   0,   0,   0,\n",
       "         0,   0,   0,   0], dtype=uint8)"
      ]
     },
     "execution_count": 34,
     "metadata": {},
     "output_type": "execute_result"
    }
   ],
   "source": [
    "x_train_reshaped[0]"
   ]
  },
  {
   "cell_type": "code",
   "execution_count": 36,
   "id": "48c24436",
   "metadata": {},
   "outputs": [],
   "source": [
    "x_mean = np.mean(x_train_reshaped)\n",
    "x_std = np.std(x_train_reshaped)"
   ]
  },
  {
   "cell_type": "code",
   "execution_count": 37,
   "id": "069c7bef",
   "metadata": {},
   "outputs": [],
   "source": [
    "epsilon = 1e-10\n",
    "x_train_norm = (x_train_reshaped - x_mean)/ (x_std + epsilon)\n",
    "x_test_norm = (x_test_reshaped - x_mean)/ (x_std + epsilon)"
   ]
  },
  {
   "cell_type": "code",
   "execution_count": 38,
   "id": "b2d2c4ea",
   "metadata": {},
   "outputs": [
    {
     "data": {
      "text/plain": [
       "array([-0.42407389, -0.42407389, -0.42407389, -0.42407389, -0.42407389,\n",
       "       -0.42407389, -0.42407389, -0.42407389, -0.42407389, -0.42407389,\n",
       "       -0.42407389, -0.42407389, -0.42407389, -0.42407389, -0.42407389,\n",
       "       -0.42407389, -0.42407389, -0.42407389, -0.42407389, -0.42407389,\n",
       "       -0.42407389, -0.42407389, -0.42407389, -0.42407389, -0.42407389,\n",
       "       -0.42407389, -0.42407389, -0.42407389, -0.42407389, -0.42407389,\n",
       "       -0.42407389, -0.42407389, -0.42407389, -0.42407389, -0.42407389,\n",
       "       -0.42407389, -0.42407389, -0.42407389, -0.42407389, -0.42407389,\n",
       "       -0.42407389, -0.42407389, -0.42407389, -0.42407389, -0.42407389,\n",
       "       -0.42407389, -0.42407389, -0.42407389, -0.42407389, -0.42407389,\n",
       "       -0.42407389, -0.42407389, -0.42407389, -0.42407389, -0.42407389,\n",
       "       -0.42407389, -0.42407389, -0.42407389, -0.42407389, -0.42407389,\n",
       "       -0.42407389, -0.42407389, -0.42407389, -0.42407389, -0.42407389,\n",
       "       -0.42407389, -0.42407389, -0.42407389, -0.42407389, -0.42407389,\n",
       "       -0.42407389, -0.42407389, -0.42407389, -0.42407389, -0.42407389,\n",
       "       -0.42407389, -0.42407389, -0.42407389, -0.42407389, -0.42407389,\n",
       "       -0.42407389, -0.42407389, -0.42407389, -0.42407389, -0.42407389,\n",
       "       -0.42407389, -0.42407389, -0.42407389, -0.42407389, -0.42407389,\n",
       "       -0.42407389, -0.42407389, -0.42407389, -0.42407389, -0.42407389,\n",
       "       -0.42407389, -0.42407389, -0.42407389, -0.42407389, -0.42407389,\n",
       "       -0.42407389, -0.42407389, -0.42407389, -0.42407389, -0.42407389,\n",
       "       -0.42407389, -0.42407389, -0.42407389, -0.42407389, -0.42407389,\n",
       "       -0.42407389, -0.42407389, -0.42407389, -0.42407389, -0.42407389,\n",
       "       -0.42407389, -0.42407389, -0.42407389, -0.42407389, -0.42407389,\n",
       "       -0.42407389, -0.42407389, -0.42407389, -0.42407389, -0.42407389,\n",
       "       -0.42407389, -0.42407389, -0.42407389, -0.42407389, -0.42407389,\n",
       "       -0.42407389, -0.42407389, -0.42407389, -0.42407389, -0.42407389,\n",
       "       -0.42407389, -0.42407389, -0.42407389, -0.42407389, -0.42407389,\n",
       "       -0.42407389, -0.42407389, -0.42407389, -0.42407389, -0.42407389,\n",
       "       -0.42407389, -0.42407389, -0.42407389, -0.42407389, -0.42407389,\n",
       "       -0.42407389, -0.42407389, -0.38589016, -0.1949715 , -0.1949715 ,\n",
       "       -0.1949715 ,  1.17964286,  1.30692197,  1.80331049, -0.09314822,\n",
       "        1.68875929,  2.82154335,  2.71972006,  1.19237077, -0.42407389,\n",
       "       -0.42407389, -0.42407389, -0.42407389, -0.42407389, -0.42407389,\n",
       "       -0.42407389, -0.42407389, -0.42407389, -0.42407389, -0.42407389,\n",
       "       -0.42407389, -0.04223657,  0.03413089,  0.77234972,  1.53602436,\n",
       "        1.73967093,  2.79608752,  2.79608752,  2.79608752,  2.79608752,\n",
       "        2.79608752,  2.43970602,  1.76512675,  2.79608752,  2.65608051,\n",
       "        2.0578687 ,  0.39051239, -0.42407389, -0.42407389, -0.42407389,\n",
       "       -0.42407389, -0.42407389, -0.42407389, -0.42407389, -0.42407389,\n",
       "       -0.42407389, -0.42407389, -0.42407389,  0.19959373,  2.60516886,\n",
       "        2.79608752,  2.79608752,  2.79608752,  2.79608752,  2.79608752,\n",
       "        2.79608752,  2.79608752,  2.79608752,  2.7706317 ,  0.7596218 ,\n",
       "        0.61961479,  0.61961479,  0.28868911,  0.07231462, -0.42407389,\n",
       "       -0.42407389, -0.42407389, -0.42407389, -0.42407389, -0.42407389,\n",
       "       -0.42407389, -0.42407389, -0.42407389, -0.42407389, -0.42407389,\n",
       "       -0.42407389, -0.1949715 ,  2.36333856,  2.79608752,  2.79608752,\n",
       "        2.79608752,  2.79608752,  2.79608752,  2.09605243,  1.89240586,\n",
       "        2.71972006,  2.6433526 , -0.42407389, -0.42407389, -0.42407389,\n",
       "       -0.42407389, -0.42407389, -0.42407389, -0.42407389, -0.42407389,\n",
       "       -0.42407389, -0.42407389, -0.42407389, -0.42407389, -0.42407389,\n",
       "       -0.42407389, -0.42407389, -0.42407389, -0.42407389, -0.42407389,\n",
       "        0.59415897,  1.56148018,  0.93781256,  2.79608752,  2.79608752,\n",
       "        2.18514781, -0.28406688, -0.42407389,  0.12322627,  1.53602436,\n",
       "       -0.42407389, -0.42407389, -0.42407389, -0.42407389, -0.42407389,\n",
       "       -0.42407389, -0.42407389, -0.42407389, -0.42407389, -0.42407389,\n",
       "       -0.42407389, -0.42407389, -0.42407389, -0.42407389, -0.42407389,\n",
       "       -0.42407389, -0.42407389, -0.42407389, -0.42407389, -0.24588314,\n",
       "       -0.41134598,  1.53602436,  2.79608752,  0.72143807, -0.42407389,\n",
       "       -0.42407389, -0.42407389, -0.42407389, -0.42407389, -0.42407389,\n",
       "       -0.42407389, -0.42407389, -0.42407389, -0.42407389, -0.42407389,\n",
       "       -0.42407389, -0.42407389, -0.42407389, -0.42407389, -0.42407389,\n",
       "       -0.42407389, -0.42407389, -0.42407389, -0.42407389, -0.42407389,\n",
       "       -0.42407389, -0.42407389, -0.42407389, -0.42407389,  1.3451057 ,\n",
       "        2.79608752,  1.99422915, -0.39861807, -0.42407389, -0.42407389,\n",
       "       -0.42407389, -0.42407389, -0.42407389, -0.42407389, -0.42407389,\n",
       "       -0.42407389, -0.42407389, -0.42407389, -0.42407389, -0.42407389,\n",
       "       -0.42407389, -0.42407389, -0.42407389, -0.42407389, -0.42407389,\n",
       "       -0.42407389, -0.42407389, -0.42407389, -0.42407389, -0.42407389,\n",
       "       -0.42407389, -0.42407389, -0.28406688,  1.99422915,  2.79608752,\n",
       "        0.46687986, -0.42407389, -0.42407389, -0.42407389, -0.42407389,\n",
       "       -0.42407389, -0.42407389, -0.42407389, -0.42407389, -0.42407389,\n",
       "       -0.42407389, -0.42407389, -0.42407389, -0.42407389, -0.42407389,\n",
       "       -0.42407389, -0.42407389, -0.42407389, -0.42407389, -0.42407389,\n",
       "       -0.42407389, -0.42407389, -0.42407389, -0.42407389, -0.42407389,\n",
       "       -0.42407389,  0.02140298,  2.6433526 ,  2.43970602,  1.61239182,\n",
       "        0.95054047, -0.41134598, -0.42407389, -0.42407389, -0.42407389,\n",
       "       -0.42407389, -0.42407389, -0.42407389, -0.42407389, -0.42407389,\n",
       "       -0.42407389, -0.42407389, -0.42407389, -0.42407389, -0.42407389,\n",
       "       -0.42407389, -0.42407389, -0.42407389, -0.42407389, -0.42407389,\n",
       "       -0.42407389, -0.42407389, -0.42407389, -0.42407389, -0.42407389,\n",
       "        0.60688688,  2.63062468,  2.79608752,  2.79608752,  1.09054748,\n",
       "       -0.10587613, -0.42407389, -0.42407389, -0.42407389, -0.42407389,\n",
       "       -0.42407389, -0.42407389, -0.42407389, -0.42407389, -0.42407389,\n",
       "       -0.42407389, -0.42407389, -0.42407389, -0.42407389, -0.42407389,\n",
       "       -0.42407389, -0.42407389, -0.42407389, -0.42407389, -0.42407389,\n",
       "       -0.42407389, -0.42407389, -0.42407389, -0.42407389,  0.14868209,\n",
       "        1.9433175 ,  2.79608752,  2.79608752,  1.48511272, -0.0804203 ,\n",
       "       -0.42407389, -0.42407389, -0.42407389, -0.42407389, -0.42407389,\n",
       "       -0.42407389, -0.42407389, -0.42407389, -0.42407389, -0.42407389,\n",
       "       -0.42407389, -0.42407389, -0.42407389, -0.42407389, -0.42407389,\n",
       "       -0.42407389, -0.42407389, -0.42407389, -0.42407389, -0.42407389,\n",
       "       -0.42407389, -0.42407389, -0.42407389, -0.22042732,  0.7596218 ,\n",
       "        2.78335961,  2.79608752,  1.95604541, -0.42407389, -0.42407389,\n",
       "       -0.42407389, -0.42407389, -0.42407389, -0.42407389, -0.42407389,\n",
       "       -0.42407389, -0.42407389, -0.42407389, -0.42407389, -0.42407389,\n",
       "       -0.42407389, -0.42407389, -0.42407389, -0.42407389, -0.42407389,\n",
       "       -0.42407389, -0.42407389, -0.42407389, -0.42407389, -0.42407389,\n",
       "       -0.42407389, -0.42407389, -0.42407389,  2.74517588,  2.79608752,\n",
       "        2.74517588,  0.39051239, -0.42407389, -0.42407389, -0.42407389,\n",
       "       -0.42407389, -0.42407389, -0.42407389, -0.42407389, -0.42407389,\n",
       "       -0.42407389, -0.42407389, -0.42407389, -0.42407389, -0.42407389,\n",
       "       -0.42407389, -0.42407389, -0.42407389, -0.42407389, -0.42407389,\n",
       "       -0.42407389, -0.42407389, -0.42407389,  0.16141   ,  1.2305545 ,\n",
       "        1.90513377,  2.79608752,  2.79608752,  2.21060363, -0.39861807,\n",
       "       -0.42407389, -0.42407389, -0.42407389, -0.42407389, -0.42407389,\n",
       "       -0.42407389, -0.42407389, -0.42407389, -0.42407389, -0.42407389,\n",
       "       -0.42407389, -0.42407389, -0.42407389, -0.42407389, -0.42407389,\n",
       "       -0.42407389, -0.42407389, -0.42407389, -0.42407389,  0.07231462,\n",
       "        1.4596569 ,  2.49061767,  2.79608752,  2.79608752,  2.79608752,\n",
       "        2.75790379,  1.89240586, -0.42407389, -0.42407389, -0.42407389,\n",
       "       -0.42407389, -0.42407389, -0.42407389, -0.42407389, -0.42407389,\n",
       "       -0.42407389, -0.42407389, -0.42407389, -0.42407389, -0.42407389,\n",
       "       -0.42407389, -0.42407389, -0.42407389, -0.42407389, -0.42407389,\n",
       "       -0.11860404,  1.02690793,  2.38879438,  2.79608752,  2.79608752,\n",
       "        2.79608752,  2.79608752,  2.13423617,  0.56870314, -0.42407389,\n",
       "       -0.42407389, -0.42407389, -0.42407389, -0.42407389, -0.42407389,\n",
       "       -0.42407389, -0.42407389, -0.42407389, -0.42407389, -0.42407389,\n",
       "       -0.42407389, -0.42407389, -0.42407389, -0.42407389, -0.42407389,\n",
       "       -0.42407389, -0.13133195,  0.41596821,  2.28697109,  2.79608752,\n",
       "        2.79608752,  2.79608752,  2.79608752,  2.09605243,  0.60688688,\n",
       "       -0.39861807, -0.42407389, -0.42407389, -0.42407389, -0.42407389,\n",
       "       -0.42407389, -0.42407389, -0.42407389, -0.42407389, -0.42407389,\n",
       "       -0.42407389, -0.42407389, -0.42407389, -0.42407389, -0.42407389,\n",
       "       -0.42407389, -0.42407389, -0.1949715 ,  1.75239884,  2.36333856,\n",
       "        2.79608752,  2.79608752,  2.79608752,  2.79608752,  2.0578687 ,\n",
       "        0.59415897, -0.3095227 , -0.42407389, -0.42407389, -0.42407389,\n",
       "       -0.42407389, -0.42407389, -0.42407389, -0.42407389, -0.42407389,\n",
       "       -0.42407389, -0.42407389, -0.42407389, -0.42407389, -0.42407389,\n",
       "       -0.42407389, -0.42407389, -0.42407389,  0.2759612 ,  1.76512675,\n",
       "        2.45243393,  2.79608752,  2.79608752,  2.79608752,  2.79608752,\n",
       "        2.68153633,  1.26873823, -0.28406688, -0.42407389, -0.42407389,\n",
       "       -0.42407389, -0.42407389, -0.42407389, -0.42407389, -0.42407389,\n",
       "       -0.42407389, -0.42407389, -0.42407389, -0.42407389, -0.42407389,\n",
       "       -0.42407389, -0.42407389, -0.42407389, -0.42407389, -0.42407389,\n",
       "       -0.42407389,  1.30692197,  2.79608752,  2.79608752,  2.79608752,\n",
       "        2.27424318,  1.29419406,  1.25601032, -0.22042732, -0.42407389,\n",
       "       -0.42407389, -0.42407389, -0.42407389, -0.42407389, -0.42407389,\n",
       "       -0.42407389, -0.42407389, -0.42407389, -0.42407389, -0.42407389,\n",
       "       -0.42407389, -0.42407389, -0.42407389, -0.42407389, -0.42407389,\n",
       "       -0.42407389, -0.42407389, -0.42407389, -0.42407389, -0.42407389,\n",
       "       -0.42407389, -0.42407389, -0.42407389, -0.42407389, -0.42407389,\n",
       "       -0.42407389, -0.42407389, -0.42407389, -0.42407389, -0.42407389,\n",
       "       -0.42407389, -0.42407389, -0.42407389, -0.42407389, -0.42407389,\n",
       "       -0.42407389, -0.42407389, -0.42407389, -0.42407389, -0.42407389,\n",
       "       -0.42407389, -0.42407389, -0.42407389, -0.42407389, -0.42407389,\n",
       "       -0.42407389, -0.42407389, -0.42407389, -0.42407389, -0.42407389,\n",
       "       -0.42407389, -0.42407389, -0.42407389, -0.42407389, -0.42407389,\n",
       "       -0.42407389, -0.42407389, -0.42407389, -0.42407389, -0.42407389,\n",
       "       -0.42407389, -0.42407389, -0.42407389, -0.42407389, -0.42407389,\n",
       "       -0.42407389, -0.42407389, -0.42407389, -0.42407389, -0.42407389,\n",
       "       -0.42407389, -0.42407389, -0.42407389, -0.42407389, -0.42407389,\n",
       "       -0.42407389, -0.42407389, -0.42407389, -0.42407389, -0.42407389,\n",
       "       -0.42407389, -0.42407389, -0.42407389, -0.42407389, -0.42407389,\n",
       "       -0.42407389, -0.42407389, -0.42407389, -0.42407389, -0.42407389,\n",
       "       -0.42407389, -0.42407389, -0.42407389, -0.42407389, -0.42407389,\n",
       "       -0.42407389, -0.42407389, -0.42407389, -0.42407389])"
      ]
     },
     "execution_count": 38,
     "metadata": {},
     "output_type": "execute_result"
    }
   ],
   "source": [
    "x_train_norm[0]"
   ]
  },
  {
   "cell_type": "code",
   "execution_count": 39,
   "id": "231ffb70",
   "metadata": {},
   "outputs": [],
   "source": [
    "from tensorflow.keras.models import Sequential\n",
    "from tensorflow.keras.layers import Dense"
   ]
  },
  {
   "cell_type": "code",
   "execution_count": 68,
   "id": "9c26b292",
   "metadata": {},
   "outputs": [],
   "source": [
    "model = Sequential([\n",
    "    Dense(128, activation = \"relu\", input_shape = (784,)),\n",
    "    Dense(128, activation = \"relu\"),\n",
    "    Dense(10, activation = \"softmax\")\n",
    "])"
   ]
  },
  {
   "cell_type": "code",
   "execution_count": 71,
   "id": "0f057316",
   "metadata": {},
   "outputs": [],
   "source": [
    "model.compile(optimizer= \"sgd\",\n",
    "             loss = \"categorical_crossentropy\",\n",
    "             metrics = [\"accuracy\"])"
   ]
  },
  {
   "cell_type": "code",
   "execution_count": 72,
   "id": "c743c585",
   "metadata": {},
   "outputs": [
    {
     "name": "stdout",
     "output_type": "stream",
     "text": [
      "Model: \"sequential_5\"\n",
      "_________________________________________________________________\n",
      " Layer (type)                Output Shape              Param #   \n",
      "=================================================================\n",
      " dense_13 (Dense)            (None, 128)               100480    \n",
      "                                                                 \n",
      " dense_14 (Dense)            (None, 128)               16512     \n",
      "                                                                 \n",
      " dense_15 (Dense)            (None, 10)                1290      \n",
      "                                                                 \n",
      "=================================================================\n",
      "Total params: 118,282\n",
      "Trainable params: 118,282\n",
      "Non-trainable params: 0\n",
      "_________________________________________________________________\n"
     ]
    }
   ],
   "source": [
    "model.summary()"
   ]
  },
  {
   "cell_type": "code",
   "execution_count": 73,
   "id": "f8328bef",
   "metadata": {},
   "outputs": [
    {
     "name": "stdout",
     "output_type": "stream",
     "text": [
      "Epoch 1/5\n",
      "1875/1875 [==============================] - 6s 3ms/step - loss: 0.3712 - accuracy: 0.8901\n",
      "Epoch 2/5\n",
      "1875/1875 [==============================] - 6s 3ms/step - loss: 0.1839 - accuracy: 0.9457\n",
      "Epoch 3/5\n",
      "1875/1875 [==============================] - 6s 3ms/step - loss: 0.1402 - accuracy: 0.9587\n",
      "Epoch 4/5\n",
      "1875/1875 [==============================] - 5s 3ms/step - loss: 0.1141 - accuracy: 0.9664\n",
      "Epoch 5/5\n",
      "1875/1875 [==============================] - 5s 3ms/step - loss: 0.0971 - accuracy: 0.9718\n"
     ]
    },
    {
     "data": {
      "text/plain": [
       "<keras.callbacks.History at 0x229d7135910>"
      ]
     },
     "execution_count": 73,
     "metadata": {},
     "output_type": "execute_result"
    }
   ],
   "source": [
    "model.fit(x_train_norm, y_train_enc, epochs=5)"
   ]
  },
  {
   "cell_type": "code",
   "execution_count": 60,
   "id": "c959178a",
   "metadata": {},
   "outputs": [
    {
     "name": "stdout",
     "output_type": "stream",
     "text": [
      "313/313 [==============================] - 1s 2ms/step - loss: 0.1165 - accuracy: 0.9660\n"
     ]
    }
   ],
   "source": [
    "\n",
    "accuracy = model.evaluate(x_test_norm, y_test_enc)"
   ]
  },
  {
   "cell_type": "code",
   "execution_count": 61,
   "id": "62690573",
   "metadata": {},
   "outputs": [
    {
     "name": "stdout",
     "output_type": "stream",
     "text": [
      "313/313 [==============================] - 1s 2ms/step\n"
     ]
    }
   ],
   "source": [
    "preds = model.predict(x_test_norm)"
   ]
  },
  {
   "cell_type": "code",
   "execution_count": 62,
   "id": "27b41de8",
   "metadata": {},
   "outputs": [
    {
     "data": {
      "image/png": "[encoded data removed]",
      "text/plain": [
       "<Figure size 720x720 with 25 Axes>"
      ]
     },
     "metadata": {},
     "output_type": "display_data"
    }
   ],
   "source": [
    "plt.figure(figsize=(10,10))\n",
    "start_index = 0\n",
    "for i in range(25):\n",
    "    plt.subplot(5,5,i+1)\n",
    "    plt.grid(False)\n",
    "    plt.xticks([])\n",
    "    plt.yticks([])\n",
    "    pred = np.argmax(preds[start_index + i])\n",
    "    actual = y_test[start_index + i]\n",
    "    plt.xlabel(\"i= {}, pred= {}, actual= {}\".format(start_index, pred, actual))\n",
    "    plt.imshow(x_test[start_index + i], cmap= \"binary\")\n",
    "plt.show()"
   ]
  },
  {
   "cell_type": "code",
   "execution_count": 48,
   "id": "4e05fd94",
   "metadata": {},
   "outputs": [
    {
     "data": {
      "image/png": "[encoded data removed]",
      "text/plain": [
       "<Figure size 432x288 with 1 Axes>"
      ]
     },
     "metadata": {
      "needs_background": "light"
     },
     "output_type": "display_data"
    }
   ],
   "source": [
    "plt.plot(preds[10])\n",
    "plt.show()"
   ]
  },
  {
   "cell_type": "markdown",
   "id": "d4f83e7a",
   "metadata": {},
   "source": [
    "<a href=\"https://www.linkedin.com/in/muhammad-bilal-afzal-95b33323b/\">MUHAMMAD BILAL</a>"
   ]
  }
 ],
 "metadata": {
  "kernelspec": {
   "display_name": "Python 3 (ipykernel)",
   "language": "python",
   "name": "python3"
  },
  "language_info": {
   "codemirror_mode": {
    "name": "ipython",
    "version": 3
   },
   "file_extension": ".py",
   "mimetype": "text/x-python",
   "name": "python",
   "nbconvert_exporter": "python",
   "pygments_lexer": "ipython3",
   "version": "3.9.12"
  }
 },
 "nbformat": 4,
 "nbformat_minor": 5
}
